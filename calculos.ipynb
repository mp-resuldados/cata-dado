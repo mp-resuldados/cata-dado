{
 "cells": [
  {
   "cell_type": "code",
   "execution_count": 2,
   "id": "73d1c11a-dff5-4715-a776-8ddb5ba49e5c",
   "metadata": {
    "tags": []
   },
   "outputs": [],
   "source": [
    "import matplotlib.pyplot as plt\n",
    "import matplotlib.image as mpimg\n",
    "import numpy as np\n",
    "from PIL.Image import open as image_open"
   ]
  },
  {
   "cell_type": "markdown",
   "id": "efc83952-1162-4fc1-9051-9f4cff2ca3d5",
   "metadata": {},
   "source": [
    "# Cata-Dado\n",
    "\n",
    "Notebook para testes de uma aplicação que permite obter os dados de um gráfico a partir da sua imagem.\n",
    "\n",
    "Uma vez aberta a imagem, devemos ser capazes de clicar em quatro pontos de referência nos eixos e, dando os valores de referência, recriar os eixos a partir de uma relação linear.\n",
    "\n",
    "Depois desse processo de calibração, devemos ser capazes de, clicando nos pontos da imagem, criar uma tabela com os dados retirados da imagem."
   ]
  },
  {
   "cell_type": "markdown",
   "id": "7baf773f-10a4-4bf6-a330-2a24076b8c4b",
   "metadata": {},
   "source": [
    "Configurações para a imagem do matplotlib:"
   ]
  },
  {
   "cell_type": "code",
   "execution_count": 3,
   "id": "84b8e622-e70e-493b-81a3-038ce61ea7db",
   "metadata": {
    "tags": []
   },
   "outputs": [],
   "source": [
    "plt.rcParams['backend'] = 'TkAgg' # backen do matplotlib\n",
    "plt.rcParams[\"figure.figsize\"] = [5, 5] # tamanho da figura\n",
    "plt.rcParams[\"figure.autolayout\"] = True "
   ]
  },
  {
   "cell_type": "markdown",
   "id": "6b3aa639-d72f-4e70-8daf-d8bc9df2c0dc",
   "metadata": {},
   "source": [
    "A função abaixo coleta os pontos da imagem que são clicados (os valores dos pixels correspondentes às posições horizontal e vertical), pede um valor que corresponde ao valor real dos dados da imagem e salva os dados em uma lista chamada pontos.\n",
    "\n",
    "Coletando 4 pontos referentes ao eixos (na ordem: 2 horizontais depois 2 verticais) podemos fazer a correspondência entre o valor da imagem e o valor real do dados usando uma função linear.\n",
    "\n",
    "Criamos um gráfico quadrático para testar a função. Posteriormente, onde criamos um gráfico, vamos abrir uma imagem."
   ]
  },
  {
   "cell_type": "code",
   "execution_count": 4,
   "id": "ea1b36fc-c5e5-407b-a61d-6b968af19b9c",
   "metadata": {
    "tags": []
   },
   "outputs": [
    {
     "name": "stdin",
     "output_type": "stream",
     "text": [
      "descreva 1\n",
      "descreva 5\n",
      "descreva 5\n",
      "descreva 25\n"
     ]
    }
   ],
   "source": [
    "pontos = [] # cria uma lista vazia para armazenar os dados de calibração\n",
    "\n",
    "# Função que imprime as coordenadas dos cliques\n",
    "def onclick(event):\n",
    "    global pontos\n",
    "    valor = input('descreva') # usamos para escrever os valores de referência\n",
    "    pontos.append((event.xdata, event.ydata, valor))\n",
    "\n",
    "# Criando uma figura para testar a função\n",
    "fig, ax = plt.subplots()\n",
    "\n",
    "ax.scatter([1,2,3,4,5], # relação quadrática\n",
    "        [1,4,9,16,25])\n",
    "\n",
    "# Vincula o button_press_event com a função onclick\n",
    "fig.canvas.mpl_connect('button_press_event', onclick)\n",
    "\n",
    "# Mostra a figura\n",
    "plt.show()"
   ]
  },
  {
   "cell_type": "markdown",
   "id": "6cc8c398-1134-452f-a633-d8614db2aad8",
   "metadata": {},
   "source": [
    "Olhando como ficou a lista de pontos com as referências para calibração:"
   ]
  },
  {
   "cell_type": "code",
   "execution_count": 5,
   "id": "c43b1e59-3790-4e44-b988-b8717adbf711",
   "metadata": {
    "tags": []
   },
   "outputs": [
    {
     "data": {
      "text/plain": [
       "[(1.0041052036909173, -0.006099838167558325, '1'),\n",
       " (5.011085305379449, -0.06525581974355754, '5'),\n",
       " (0.8151905090703659, 5.022158595792357, '5'),\n",
       " (0.8151905090703659, 25.07603635005602, '25')]"
      ]
     },
     "execution_count": 5,
     "metadata": {},
     "output_type": "execute_result"
    }
   ],
   "source": [
    "pontos"
   ]
  },
  {
   "cell_type": "markdown",
   "id": "b359aaff-0577-4741-8cfc-e1fa53ed74cc",
   "metadata": {},
   "source": [
    "Tranformando a lista de pontos em uma array de floats e renomeando para Pontos."
   ]
  },
  {
   "cell_type": "code",
   "execution_count": 17,
   "id": "8334ceee-ff11-4a37-a972-62a133c6d442",
   "metadata": {
    "tags": []
   },
   "outputs": [
    {
     "data": {
      "text/plain": [
       "array([[ 1.00410520e+00, -6.09983817e-03,  1.00000000e+00],\n",
       "       [ 5.01108531e+00, -6.52558197e-02,  5.00000000e+00],\n",
       "       [ 8.15190509e-01,  5.02215860e+00,  5.00000000e+00],\n",
       "       [ 8.15190509e-01,  2.50760364e+01,  2.50000000e+01]])"
      ]
     },
     "execution_count": 17,
     "metadata": {},
     "output_type": "execute_result"
    }
   ],
   "source": [
    "Pontos = np.array(pontos).astype('float')\n",
    "Pontos"
   ]
  },
  {
   "cell_type": "markdown",
   "id": "db1158a3-159c-439e-9d3d-e34783456ae2",
   "metadata": {},
   "source": [
    "Separando a lista de pontos em coordenadas verticais (y) e horizontais (x). As respectivas referências para calibração são chamadas de Y e X.\n",
    "\n",
    "Como X e Y são strings, transformamos para float para seguir os cálculos."
   ]
  },
  {
   "cell_type": "code",
   "execution_count": 18,
   "id": "0c0b1630-15b7-40bb-b6df-62d7da0d072f",
   "metadata": {
    "tags": []
   },
   "outputs": [],
   "source": [
    "x_0 = Pontos[0][0]\n",
    "x_1 = Pontos[1][0]\n",
    "y_0 = Pontos[2][1]\n",
    "y_1 = Pontos[3][1]\n",
    "X_0 = np.float64(pontos[0][2])\n",
    "X_1 = np.float64(pontos[1][2])\n",
    "Y_0 = np.float64(pontos[2][2])\n",
    "Y_1 = np.float64(pontos[3][2])"
   ]
  },
  {
   "cell_type": "markdown",
   "id": "58cc1bf9-ceeb-4cf5-97bf-839159eea807",
   "metadata": {},
   "source": [
    "Abaixo, estamos construindo uma relação linear entre os pontos  clicados em unidades de pixel e os valores de referência nas unidades do gráfico.\n",
    "\n",
    "Os valores de a e b se referem respectivamente aos coeficientes angular e linear da relação linear entre os pontos em unidade de pixel (x, y) e a na unidade real do gráfico (X, Y). Os íncices h e v se referem respectivamente aos eixos horizontal e vertical da imagem."
   ]
  },
  {
   "cell_type": "code",
   "execution_count": 19,
   "id": "76be6c74-44c0-46cf-806e-a5585d002876",
   "metadata": {},
   "outputs": [],
   "source": [
    "a_h = (X_1-X_0)/(x_1-x_0)\n",
    "\n",
    "b_h = ((X_0 - a_h*x_0)+(X_1 - a_h*x_1) )/2\n",
    "\n",
    "a_v = (Y_1-Y_0)/(y_1-y_0)\n",
    "\n",
    "b_v = ((Y_0 - a_v*y_0)+(Y_1 - a_v*y_1) )/2"
   ]
  },
  {
   "cell_type": "markdown",
   "id": "c86b5052-59fb-45b8-bc45-ab3ee36a8a9a",
   "metadata": {},
   "source": [
    "Nesse ponto, já podemos calibrar os dados. Então, retornamos à figura para coletar os pontos da imagem. Usamos a mesma função utilizada algumas células acima e a usamos o mesmo gráfico criado para os testes.\n",
    "\n",
    "A referência será colocada apenas para a conferência do método, não será utilizada nos cálculos porque os dados para a calibração já foram coletados."
   ]
  },
  {
   "cell_type": "code",
   "execution_count": 30,
   "id": "5af6ac22-ec42-4b25-bc22-5918c76a56e8",
   "metadata": {
    "tags": []
   },
   "outputs": [
    {
     "name": "stdin",
     "output_type": "stream",
     "text": [
      "descreva 1\n",
      "descreva 4\n",
      "descreva 9\n",
      "descreva 16\n",
      "descreva 25\n"
     ]
    }
   ],
   "source": [
    "pontos = [] # cria uma lista vazia para armazenar os dados de calibração\n",
    "\n",
    "# Função que imprime as coordenadas dos cliques\n",
    "def onclick(event):\n",
    "    global pontos\n",
    "    valor = input('descreva') # usamos para escrever os valores de referência\n",
    "    pontos.append((event.xdata, event.ydata,valor))\n",
    "\n",
    "# Criando uma figura para testar a função\n",
    "fig, ax = plt.subplots()\n",
    "\n",
    "ax.scatter([1,2,3,4,5],\n",
    "        [1,4,9,16,25])\n",
    "\n",
    "# Vincula o button_press_event com a função onclick\n",
    "fig.canvas.mpl_connect('button_press_event', onclick)\n",
    "\n",
    "# Mostra a figura\n",
    "plt.show()"
   ]
  },
  {
   "cell_type": "markdown",
   "id": "ee688207-edb7-4910-94c3-a70e08fb7610",
   "metadata": {
    "tags": []
   },
   "source": [
    "Vamos olhar os pontos e tranformar em uma array de floats:"
   ]
  },
  {
   "cell_type": "code",
   "execution_count": 35,
   "id": "d0e6a5ec-da9c-4503-8b5c-35139dd832f6",
   "metadata": {
    "tags": []
   },
   "outputs": [
    {
     "data": {
      "text/plain": [
       "array([[ 1.01404808,  0.8220839 ,  1.        ],\n",
       "       [ 1.99839307,  4.13481887,  4.        ],\n",
       "       [ 3.00262382,  9.10392132,  9.        ],\n",
       "       [ 3.99691168, 16.14348313, 16.        ],\n",
       "       [ 5.01108531, 25.01688037, 25.        ]])"
      ]
     },
     "execution_count": 35,
     "metadata": {},
     "output_type": "execute_result"
    }
   ],
   "source": [
    "Pontos = np.array(pontos).astype('float')\n",
    "Pontos"
   ]
  },
  {
   "cell_type": "markdown",
   "id": "1d11d512-c2fd-434f-96a4-1e2353938d09",
   "metadata": {},
   "source": [
    "Vamos separar os Pontos em coordenadas x (horizontais) e y (verticais). Guardamos também o gabarito para posterior conferência."
   ]
  },
  {
   "cell_type": "code",
   "execution_count": 55,
   "id": "217b0e52-4141-408f-81e7-e8a06379f453",
   "metadata": {
    "tags": []
   },
   "outputs": [
    {
     "data": {
      "text/plain": [
       "(array([1.01404808, 1.99839307, 3.00262382, 3.99691168, 5.01108531]),\n",
       " array([ 0.8220839 ,  4.13481887,  9.10392132, 16.14348313, 25.01688037]),\n",
       " array([ 1.,  4.,  9., 16., 25.]))"
      ]
     },
     "execution_count": 55,
     "metadata": {},
     "output_type": "execute_result"
    }
   ],
   "source": [
    "x = Pontos[0:, 0]\n",
    "y = Pontos[0:, 1]\n",
    "gabarito_Y = Pontos[0:, 2]\n",
    "x, y, gabarito_Y"
   ]
  },
  {
   "cell_type": "markdown",
   "id": "f041469d-d3a6-4977-8d9a-29bdb40a31fb",
   "metadata": {},
   "source": [
    "Vamos usar os coeficientes angular e linear calculados anteriromente para construir a relação de calibração."
   ]
  },
  {
   "cell_type": "code",
   "execution_count": 56,
   "id": "5af7f137-34d5-4420-8215-b508ed5c869b",
   "metadata": {
    "tags": []
   },
   "outputs": [],
   "source": [
    "X = a_h*x+b_h\n",
    "Y = a_v*y+b_v"
   ]
  },
  {
   "cell_type": "markdown",
   "id": "dddea5bb-b349-46b3-965e-75726e9b3c28",
   "metadata": {
    "tags": []
   },
   "source": [
    "Com isso, podemos ver a lista de X e Y dados pela calibração e conferir com a relação quadrática que construímos."
   ]
  },
  {
   "cell_type": "code",
   "execution_count": 57,
   "id": "7aa131cf-ece6-4b90-96c6-3dc8e51358cd",
   "metadata": {
    "tags": []
   },
   "outputs": [
    {
     "data": {
      "text/plain": [
       "array([1.00992556, 1.99255583, 2.99503722, 3.98759305, 5.        ])"
      ]
     },
     "execution_count": 57,
     "metadata": {},
     "output_type": "execute_result"
    }
   ],
   "source": [
    "X"
   ]
  },
  {
   "cell_type": "code",
   "execution_count": 66,
   "id": "a9af0ae3-9fa0-484a-aaa7-a0b214d4a8f1",
   "metadata": {
    "tags": []
   },
   "outputs": [
    {
     "data": {
      "text/plain": [
       "array([ 0.81120944,  4.11504425,  9.07079646, 16.09144543, 24.94100295])"
      ]
     },
     "execution_count": 66,
     "metadata": {},
     "output_type": "execute_result"
    }
   ],
   "source": [
    "Y"
   ]
  },
  {
   "cell_type": "markdown",
   "id": "930d227b-4ebb-45ba-9d5f-f2c253e90e88",
   "metadata": {},
   "source": [
    "Vamos comparar o valor de Y real com o encontrado depois da calibração.\n",
    "\n",
    "Calculando o erro percentual ponto a ponto na coordenada Y:"
   ]
  },
  {
   "cell_type": "code",
   "execution_count": 67,
   "id": "022cc638-9128-4ba1-a82d-3c2334a2abce",
   "metadata": {},
   "outputs": [
    {
     "data": {
      "text/plain": [
       "array([0.18879056, 0.02876106, 0.00786627, 0.00571534, 0.00235988])"
      ]
     },
     "execution_count": 67,
     "metadata": {},
     "output_type": "execute_result"
    }
   ],
   "source": [
    "abs((Y-gabarito_Y)/gabarito_Y)"
   ]
  },
  {
   "cell_type": "markdown",
   "id": "9edd19bc-7e9f-4926-8cbc-18397e5c853f",
   "metadata": {},
   "source": [
    "Calculando a soma dos erros percentuais."
   ]
  },
  {
   "cell_type": "code",
   "execution_count": 68,
   "id": "e08ae530-653f-4855-93f9-726c176e3c49",
   "metadata": {},
   "outputs": [
    {
     "data": {
      "text/plain": [
       "0.23349311701081557"
      ]
     },
     "execution_count": 68,
     "metadata": {},
     "output_type": "execute_result"
    }
   ],
   "source": [
    "abs((Y-gabarito_Y)/gabarito_Y).sum()"
   ]
  },
  {
   "cell_type": "markdown",
   "id": "4725a74d-7076-4863-b3b5-77db2443b516",
   "metadata": {},
   "source": [
    "Para a coordenada x, temo um erro percentual:\n"
   ]
  },
  {
   "cell_type": "code",
   "execution_count": 69,
   "id": "1951154e-fa14-4da3-ae9f-2bc0a8bc77e6",
   "metadata": {
    "tags": []
   },
   "outputs": [
    {
     "data": {
      "text/plain": [
       "array([0.00992556, 0.00372208, 0.00165426, 0.00310174, 0.        ])"
      ]
     },
     "execution_count": 69,
     "metadata": {},
     "output_type": "execute_result"
    }
   ],
   "source": [
    "gabarito_X = np.array([1,2,3,4,5])\n",
    "abs((X-gabarito_X)/gabarito_X)"
   ]
  },
  {
   "cell_type": "markdown",
   "id": "531539e8-2686-4e03-b32f-d99c96cfeb1b",
   "metadata": {
    "tags": []
   },
   "source": [
    "Somando os erros percentuais:"
   ]
  },
  {
   "cell_type": "code",
   "execution_count": 72,
   "id": "d77c43ae-a919-42de-80c7-ec37e1c30232",
   "metadata": {
    "tags": []
   },
   "outputs": [
    {
     "data": {
      "text/plain": [
       "0.018403639371381196"
      ]
     },
     "execution_count": 72,
     "metadata": {},
     "output_type": "execute_result"
    }
   ],
   "source": [
    "abs((X-gabarito_X)/gabarito_X).sum()"
   ]
  },
  {
   "cell_type": "markdown",
   "id": "6dc74ffd-1967-4055-9a53-3f13b5c3e446",
   "metadata": {
    "tags": []
   },
   "source": [
    "Encontramos um resultado satisfatório mesmo sem muito cuidado no clique."
   ]
  }
 ],
 "metadata": {
  "kernelspec": {
   "display_name": "Python 3 (ipykernel)",
   "language": "python",
   "name": "python3"
  },
  "language_info": {
   "codemirror_mode": {
    "name": "ipython",
    "version": 3
   },
   "file_extension": ".py",
   "mimetype": "text/x-python",
   "name": "python",
   "nbconvert_exporter": "python",
   "pygments_lexer": "ipython3",
   "version": "3.11.5"
  }
 },
 "nbformat": 4,
 "nbformat_minor": 5
}
