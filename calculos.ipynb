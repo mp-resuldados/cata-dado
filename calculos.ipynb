{
 "cells": [
  {
   "cell_type": "code",
   "execution_count": 13,
   "id": "73d1c11a-dff5-4715-a776-8ddb5ba49e5c",
   "metadata": {
    "tags": []
   },
   "outputs": [],
   "source": [
    "import matplotlib.pyplot as plt\n",
    "import numpy as np\n",
    "import matplotlib.image as mpimg\n",
    "import datetime"
   ]
  },
  {
   "cell_type": "code",
   "execution_count": 2,
   "id": "cd9bc17f-543f-489c-ba21-9eed01d0f71d",
   "metadata": {
    "tags": []
   },
   "outputs": [],
   "source": [
    "from matplotlib import pyplot as plt\n",
    "\n",
    "plt.rcParams['backend'] = 'TkAgg'\n",
    "plt.rcParams[\"figure.figsize\"] = [7.50, 3.50]\n",
    "plt.rcParams[\"figure.autolayout\"] = True\n",
    "\n",
    "# Function to print mouse click event coordinates\n",
    "def onclick(event):\n",
    "   print([event.xdata, event.ydata])\n",
    "\n",
    "# Create a figure and a set of subplots\n",
    "fig, ax = plt.subplots()\n",
    "\n",
    "# Plot a line in the range of 10\n",
    "ax.plot(range(10))\n",
    "\n",
    "# Bind the button_press_event with the onclick() method\n",
    "fig.canvas.mpl_connect('button_press_event', onclick)\n",
    "\n",
    "# Display the plot\n",
    "plt.show()"
   ]
  },
  {
   "cell_type": "code",
   "execution_count": 3,
   "id": "c5ea5eb1-6582-4d90-acd6-13795eefb2b0",
   "metadata": {
    "tags": []
   },
   "outputs": [],
   "source": [
    "#plt.rcParams['backend'] = 'TkAgg'\n",
    "plt.rcParams[\"figure.figsize\"] = [5, 5]\n",
    "#plt.rcParams[\"figure.autolayout\"] = True\n",
    "\n",
    "x = []\n",
    "# Function to print mouse click event coordinates\n",
    "def onclick(event):\n",
    "    global x\n",
    "    valor = input('descreva')\n",
    "    x.append((event.xdata, event.ydata, valor))\n",
    "\n",
    "# Create a figure and a set of subplots\n",
    "fig, ax = plt.subplots()\n",
    "\n",
    "\n",
    "img = mpimg.imread('./imagens/coca-cola.jpg')\n",
    "fig = plt.imshow(img).figure\n",
    "\n",
    "# Bind the button_press_event with the onclick() method\n",
    "fig.canvas.mpl_connect('button_press_event', onclick)\n",
    "\n",
    "# Display the plot\n",
    "plt.show()"
   ]
  },
  {
   "cell_type": "code",
   "execution_count": 4,
   "id": "ea1b36fc-c5e5-407b-a61d-6b968af19b9c",
   "metadata": {
    "tags": []
   },
   "outputs": [
    {
     "name": "stdin",
     "output_type": "stream",
     "text": [
      "descreva 1\n",
      "descreva 5\n",
      "descreva 5\n",
      "descreva 25\n",
      "descreva 0\n",
      "descreva 1\n",
      "descreva 2\n",
      "descreva 3\n",
      "descreva 4\n"
     ]
    }
   ],
   "source": [
    "## plt.rcParams['backend'] = 'TkAgg'\n",
    "plt.rcParams[\"figure.figsize\"] = [5, 5]\n",
    "plt.rcParams[\"figure.autolayout\"] = True\n",
    "\n",
    "pontos = []\n",
    "# Function to print mouse click event coordinates\n",
    "def onclick(event):\n",
    "    global pontos\n",
    "    valor = input('descreva')\n",
    "    pontos.append((event.xdata, event.ydata, valor))\n",
    "\n",
    "# Create a figure and a set of subplots\n",
    "fig, ax = plt.subplots()\n",
    "\n",
    "ax.scatter([1,2,3,4,5],\n",
    "        [1,4,9,16,25])\n",
    "\n",
    "# Bind the button_press_event with the onclick() method\n",
    "fig.canvas.mpl_connect('button_press_event', onclick)\n",
    "\n",
    "# Display the plot\n",
    "plt.show()"
   ]
  },
  {
   "cell_type": "code",
   "execution_count": null,
   "id": "a3f92c62-f940-40c8-85fe-86cf33319812",
   "metadata": {},
   "outputs": [],
   "source": []
  },
  {
   "cell_type": "code",
   "execution_count": 23,
   "id": "c43b1e59-3790-4e44-b988-b8717adbf711",
   "metadata": {
    "tags": []
   },
   "outputs": [
    {
     "data": {
      "text/plain": [
       "[(1.0140480823551568, -0.006099838167558325, '1'),\n",
       " (5.011085305379449, -0.006099838167558325, '5'),\n",
       " (0.8151905090703659, 5.022158595792357, '5'),\n",
       " (0.8151905090703659, 25.07603635005602, '25'),\n",
       " (0.9941623250266776, 0.9995518486244244, '0'),\n",
       " (1.9983930701148707, 4.075662890576373, '1'),\n",
       " (2.992680936538824, 8.98560936138429, '2'),\n",
       " (4.006854560291256, 16.20263911365617, '3'),\n",
       " (4.99119954805097, 25.07603635005602, '4')]"
      ]
     },
     "execution_count": 23,
     "metadata": {},
     "output_type": "execute_result"
    }
   ],
   "source": [
    "pontos"
   ]
  },
  {
   "cell_type": "code",
   "execution_count": 40,
   "id": "0c0b1630-15b7-40bb-b6df-62d7da0d072f",
   "metadata": {
    "tags": []
   },
   "outputs": [],
   "source": [
    "x_0 = pontos[0][0]\n",
    "x_1 = pontos[1][0]\n",
    "y_0 = pontos[2][1]\n",
    "y_1 = pontos[3][1]\n",
    "X_0 = np.float64(pontos[0][2])\n",
    "X_1 = np.float64(pontos[1][2])\n",
    "Y_0 = np.float64(pontos[2][2])\n",
    "Y_1 = np.float64(pontos[3][2])"
   ]
  },
  {
   "cell_type": "code",
   "execution_count": 42,
   "id": "76be6c74-44c0-46cf-806e-a5585d002876",
   "metadata": {},
   "outputs": [],
   "source": [
    "a_h = (X_1-X_0)/(x_1-x_0)\n",
    "\n",
    "b_h = ((X_0 - a_h*x_0)+(X_1 - a_h*x_1) )/2\n",
    "\n",
    "a_v = (Y_1-Y_0)/(y_1-y_0)\n",
    "\n",
    "b_v = ((Y_0 - a_v*y_0)+(Y_1 - a_v*y_1) )/2"
   ]
  },
  {
   "cell_type": "code",
   "execution_count": 48,
   "id": "8334ceee-ff11-4a37-a972-62a133c6d442",
   "metadata": {
    "tags": []
   },
   "outputs": [
    {
     "data": {
      "text/plain": [
       "array([[ 1.01404808e+00, -6.09983817e-03,  1.00000000e+00],\n",
       "       [ 5.01108531e+00, -6.09983817e-03,  5.00000000e+00],\n",
       "       [ 8.15190509e-01,  5.02215860e+00,  5.00000000e+00],\n",
       "       [ 8.15190509e-01,  2.50760364e+01,  2.50000000e+01],\n",
       "       [ 9.94162325e-01,  9.99551849e-01,  0.00000000e+00],\n",
       "       [ 1.99839307e+00,  4.07566289e+00,  1.00000000e+00],\n",
       "       [ 2.99268094e+00,  8.98560936e+00,  2.00000000e+00],\n",
       "       [ 4.00685456e+00,  1.62026391e+01,  3.00000000e+00],\n",
       "       [ 4.99119955e+00,  2.50760364e+01,  4.00000000e+00]])"
      ]
     },
     "execution_count": 48,
     "metadata": {},
     "output_type": "execute_result"
    }
   ],
   "source": [
    "Pontos = np.array(pontos).astype('float')\n",
    "Pontos"
   ]
  },
  {
   "cell_type": "code",
   "execution_count": 49,
   "id": "217b0e52-4141-408f-81e7-e8a06379f453",
   "metadata": {
    "tags": []
   },
   "outputs": [
    {
     "data": {
      "text/plain": [
       "(array([0.99416233, 1.99839307, 2.99268094, 4.00685456, 4.99119955]),\n",
       " array([ 0.99955185,  4.07566289,  8.98560936, 16.20263911, 25.07603635]))"
      ]
     },
     "execution_count": 49,
     "metadata": {},
     "output_type": "execute_result"
    }
   ],
   "source": [
    "x = Pontos[4:, 0]\n",
    "y = Pontos[4:, 1]\n",
    "x, y"
   ]
  },
  {
   "cell_type": "code",
   "execution_count": 50,
   "id": "5af7f137-34d5-4420-8215-b508ed5c869b",
   "metadata": {
    "tags": []
   },
   "outputs": [],
   "source": [
    "X = a_h*x+b_h\n",
    "Y = a_v*y+b_v"
   ]
  },
  {
   "cell_type": "code",
   "execution_count": 47,
   "id": "9995b2ea-005a-457b-b769-9f1bad6c526f",
   "metadata": {
    "tags": []
   },
   "outputs": [
    {
     "data": {
      "text/plain": [
       "numpy.float64"
      ]
     },
     "execution_count": 47,
     "metadata": {},
     "output_type": "execute_result"
    }
   ],
   "source": [
    "type(b_h)"
   ]
  },
  {
   "cell_type": "code",
   "execution_count": 51,
   "id": "7aa131cf-ece6-4b90-96c6-3dc8e51358cd",
   "metadata": {
    "tags": []
   },
   "outputs": [
    {
     "data": {
      "text/plain": [
       "array([0.9800995 , 1.98507463, 2.9800995 , 3.99502488, 4.9800995 ])"
      ]
     },
     "execution_count": 51,
     "metadata": {},
     "output_type": "execute_result"
    }
   ],
   "source": [
    "X"
   ]
  },
  {
   "cell_type": "code",
   "execution_count": 52,
   "id": "a9af0ae3-9fa0-484a-aaa7-a0b214d4a8f1",
   "metadata": {
    "tags": []
   },
   "outputs": [
    {
     "data": {
      "text/plain": [
       "array([ 0.98820059,  4.0560472 ,  8.95280236, 16.15044248, 25.        ])"
      ]
     },
     "execution_count": 52,
     "metadata": {},
     "output_type": "execute_result"
    }
   ],
   "source": [
    "Y"
   ]
  },
  {
   "cell_type": "code",
   "execution_count": null,
   "id": "11cbc916-6e47-433e-bf73-b6a866a445ec",
   "metadata": {},
   "outputs": [],
   "source": []
  }
 ],
 "metadata": {
  "kernelspec": {
   "display_name": "Python 3 (ipykernel)",
   "language": "python",
   "name": "python3"
  },
  "language_info": {
   "codemirror_mode": {
    "name": "ipython",
    "version": 3
   },
   "file_extension": ".py",
   "mimetype": "text/x-python",
   "name": "python",
   "nbconvert_exporter": "python",
   "pygments_lexer": "ipython3",
   "version": "3.11.5"
  }
 },
 "nbformat": 4,
 "nbformat_minor": 5
}
